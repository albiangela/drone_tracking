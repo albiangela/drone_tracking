{
 "cells": [
  {
   "cell_type": "code",
   "execution_count": 1,
   "id": "c8e365d2-b741-4381-82c2-599bb02cb176",
   "metadata": {},
   "outputs": [],
   "source": [
    "import numpy as np\n",
    "import matplotlib.pylab as plt\n",
    "import os\n",
    "import glob\n",
    "import seaborn as sns\n",
    "import sys \n",
    "import re\n",
    "import pandas as pd\n",
    "sys.path.append('C:/Users/sophi/OneDrive/Dokumente/GitHub/drone_tracking//')\n",
    "from functions import *\n",
    "# # sys.path.append('/home/angela/Dropbox/Work/sharks/code/')\n",
    "# sys.path.append('/Users/ang/Dropbox/Work/sharks/code/')\n",
    "\n",
    "# from functions import *"
   ]
  },
  {
   "cell_type": "markdown",
   "id": "63cf06c6-f221-4750-bc80-549f25183bfd",
   "metadata": {},
   "source": [
    "### Paths"
   ]
  },
  {
   "cell_type": "code",
   "execution_count": 2,
   "id": "f147bfca-a448-42e3-99c2-7d0c00ade68b",
   "metadata": {},
   "outputs": [],
   "source": [
    "pc = 'windows'\n",
    "if pc == 'linux':\n",
    "    basevol = '/home/angela/'\n",
    "else:\n",
    "    basevol = 'E:/sophia'\n",
    "\n",
    "### Define base path where files are\n",
    "datapath = basevol + \"/excercises/drone_log/\"\n",
    "videopath = basevol + \"/files/videofiles/\"\n",
    "filename = '/sequence_20240303_070126703_DJI_0257'\n",
    "### List all settings files inside the folder\n",
    "# files_list_settings = np.sort(glob.glob(basepath + file + \".settings\"))\n",
    "\n",
    "# print(files_list_settings)\n",
    "# Extract the filename without the path\n",
    "# filename_with_extension = os.path.basename(files_list_settings[0])\n",
    "# Remove the extension if present\n",
    "# filename = os.path.splitext(file)[0]\n",
    "\n",
    "### Path settings file\n",
    "settings_file_path = datapath + filename + \".settings\"\n",
    "### Path text file\n",
    "txt_file_sequence = datapath + filename + \".txt\""
   ]
  },
  {
   "cell_type": "markdown",
   "id": "7a5f2053-694c-46f7-8695-b1205e023945",
   "metadata": {},
   "source": [
    "### Read cm_per_px calibration at frame 0"
   ]
  },
  {
   "cell_type": "code",
   "execution_count": 3,
   "id": "90664b54-a9bd-4783-a2ac-2e371a8441ef",
   "metadata": {},
   "outputs": [
    {
     "name": "stdout",
     "output_type": "stream",
     "text": [
      "0.38374\n"
     ]
    }
   ],
   "source": [
    "cm_per_pixel = get_trex_settings_value(settings_file_path,'cm_per_pixel')\n",
    "print(cm_per_pixel)\n",
    "w,h = 5120,2700"
   ]
  },
  {
   "cell_type": "code",
   "execution_count": 4,
   "id": "cce89589-2714-4839-b11a-4d0b03aa13d1",
   "metadata": {},
   "outputs": [
    {
     "name": "stdout",
     "output_type": "stream",
     "text": [
      "Width in cm is 1964.7488\n",
      "Height in cm is 1036.098\n",
      "Width in m is 19.647488\n",
      "Height in m is 10.36098\n"
     ]
    }
   ],
   "source": [
    "### Calculate FOV in centimeters\n",
    "fov_size_w = w*cm_per_pixel\n",
    "fov_size_h = h*cm_per_pixel\n",
    "print(f'Width in cm is',fov_size_w)\n",
    "print(f'Height in cm is',fov_size_h)\n",
    "print(f'Width in m is',fov_size_w/100)\n",
    "print(f'Height in m is',fov_size_h/100)"
   ]
  },
  {
   "cell_type": "markdown",
   "id": "aa88cad4-f198-4139-87c9-6a0a0c0312ce",
   "metadata": {},
   "source": [
    "### 1) Read in altitude info from all SRT files"
   ]
  },
  {
   "cell_type": "code",
   "execution_count": 5,
   "id": "4eea8ff9-7c62-41ee-9a5f-3c22a04d2cc5",
   "metadata": {},
   "outputs": [
    {
     "data": {
      "text/plain": [
       "'E:/sophia/excercises/drone_log//sequence_20240303_070126703_DJI_0257.txt'"
      ]
     },
     "execution_count": 5,
     "metadata": {},
     "output_type": "execute_result"
    }
   ],
   "source": [
    "txt_file_sequence"
   ]
  },
  {
   "cell_type": "code",
   "execution_count": 6,
   "id": "9d85b61d-4e6a-4934-904a-2c8db509bad5",
   "metadata": {},
   "outputs": [
    {
     "name": "stdout",
     "output_type": "stream",
     "text": [
      "['20240303_070126703_DJI_0257', '20240303_070430103_DJI_0258', '20240303_070733702_DJI_0259', '20240303_071037222_DJI_0260', '20240303_071340742_DJI_0261', '20240303_071644282_DJI_0262', '20240303_071947882_DJI_0263', '20240303_072251382_DJI_0264', '20240303_072554863_DJI_0265']\n"
     ]
    }
   ],
   "source": [
    "# Initialize an empty list to store filenames\n",
    "files_sequence = []\n",
    "\n",
    "# Open the text file containing the filenames\n",
    "with open(txt_file_sequence, 'r') as file:\n",
    "    # Read the contents of the file line by line\n",
    "    for line in file:\n",
    "        # Strip any leading/trailing whitespace (including newline characters)\n",
    "        line = line.strip()\n",
    "        # Remove the 'file' prefix if it exists\n",
    "        if line.startswith('file '):\n",
    "            line = line[5:]\n",
    "        # Split the filename and extension\n",
    "        file_base, _ = os.path.splitext(line)\n",
    "        # Append the base filename (without extension) to the list\n",
    "        files_sequence.append(file_base)\n",
    "\n",
    "# Print the list of filenames without 'file' prefix and extensions\n",
    "print(files_sequence)"
   ]
  },
  {
   "cell_type": "code",
   "execution_count": 7,
   "id": "7afb6357-aa53-4e8f-bcf6-3cae12c598ff",
   "metadata": {},
   "outputs": [
    {
     "name": "stdout",
     "output_type": "stream",
     "text": [
      "20240303_070126703_DJI_0257\n",
      "20240303_070430103_DJI_0258\n",
      "20240303_070733702_DJI_0259\n",
      "20240303_071037222_DJI_0260\n",
      "20240303_071340742_DJI_0261\n",
      "20240303_071644282_DJI_0262\n",
      "20240303_071947882_DJI_0263\n",
      "20240303_072251382_DJI_0264\n",
      "20240303_072554863_DJI_0265\n"
     ]
    }
   ],
   "source": [
    "for f in files_sequence:\n",
    "    print(f)"
   ]
  },
  {
   "cell_type": "code",
   "execution_count": 8,
   "id": "897490ab-36d6-4630-b59f-acef7e95875e",
   "metadata": {},
   "outputs": [
    {
     "name": "stdout",
     "output_type": "stream",
     "text": [
      "['E:/sophia/excercises/drone_log/srt_files\\\\20240303_070126703_DJI_0257.SRT'\n",
      " 'E:/sophia/excercises/drone_log/srt_files\\\\20240303_070430103_DJI_0258.SRT'\n",
      " 'E:/sophia/excercises/drone_log/srt_files\\\\20240303_070733702_DJI_0259.SRT'\n",
      " 'E:/sophia/excercises/drone_log/srt_files\\\\20240303_071037222_DJI_0260.SRT'\n",
      " 'E:/sophia/excercises/drone_log/srt_files\\\\20240303_071340742_DJI_0261.SRT'\n",
      " 'E:/sophia/excercises/drone_log/srt_files\\\\20240303_071644282_DJI_0262.SRT'\n",
      " 'E:/sophia/excercises/drone_log/srt_files\\\\20240303_071947882_DJI_0263.SRT'\n",
      " 'E:/sophia/excercises/drone_log/srt_files\\\\20240303_072251382_DJI_0264.SRT'\n",
      " 'E:/sophia/excercises/drone_log/srt_files\\\\20240303_072554863_DJI_0265.SRT'\n",
      " 'E:/sophia/excercises/drone_log/srt_files\\\\20240305_065328211_DJI_0260.SRT']\n"
     ]
    }
   ],
   "source": [
    "srt_folder = datapath + 'srt_files/'\n",
    "srt_files = np.sort(glob.glob(srt_folder + \"*.SRT\"))\n",
    "print(srt_files)"
   ]
  },
  {
   "cell_type": "code",
   "execution_count": 9,
   "id": "a824777b-a445-4b81-a8bb-8389c71b31e5",
   "metadata": {},
   "outputs": [
    {
     "data": {
      "text/plain": [
       "['20240303_070126703_DJI_0257',\n",
       " '20240303_070430103_DJI_0258',\n",
       " '20240303_070733702_DJI_0259',\n",
       " '20240303_071037222_DJI_0260',\n",
       " '20240303_071340742_DJI_0261',\n",
       " '20240303_071644282_DJI_0262',\n",
       " '20240303_071947882_DJI_0263',\n",
       " '20240303_072251382_DJI_0264',\n",
       " '20240303_072554863_DJI_0265']"
      ]
     },
     "execution_count": 9,
     "metadata": {},
     "output_type": "execute_result"
    }
   ],
   "source": [
    "files_sequence"
   ]
  },
  {
   "cell_type": "code",
   "execution_count": 10,
   "id": "7e1cd061-b5f1-4965-ba70-838f6064d754",
   "metadata": {},
   "outputs": [
    {
     "name": "stdout",
     "output_type": "stream",
     "text": [
      "20240303_070126703_DJI_0257\n",
      "20240303_070430103_DJI_0258\n",
      "20240303_070733702_DJI_0259\n",
      "20240303_071037222_DJI_0260\n",
      "20240303_071340742_DJI_0261\n",
      "20240303_071644282_DJI_0262\n",
      "20240303_071947882_DJI_0263\n",
      "20240303_072251382_DJI_0264\n",
      "20240303_072554863_DJI_0265\n",
      "SRT time line: 33920\n"
     ]
    }
   ],
   "source": [
    "# Initialize list to store all data\n",
    "data = []\n",
    "\n",
    "# Loop through each filename in the sequence and parse the SRT files\n",
    "for filename in files_sequence:\n",
    "    print(filename)\n",
    "    df = parse_srt_file(srt_folder,filename) ### This function is at the beginning of this notebook\n",
    "    \n",
    "    # Append the DataFrame to the data list if it's not empty\n",
    "    if not df.empty:\n",
    "        data.append(df)\n",
    "\n",
    "# Combine all data into a single DataFrame if there is any data\n",
    "if data:\n",
    "    combined_df = pd.concat(data, ignore_index=True)\n",
    "    combined_df['frame'] = combined_df['frame'].astype(int)\n",
    "\n",
    "    # Calculate the srt_time_line based on the last frame count\n",
    "    srt_time_line = combined_df['frame'].values[-1] * 20  # Last frame times 20 milliseconds to find the corresponding part on the flight log\n",
    "\n",
    "    # Display the DataFrame (Uncomment the following line if you want to print the DataFrame)\n",
    "    print(f'SRT time line: {srt_time_line}')\n",
    "else:\n",
    "    print(\"No valid data found.\")"
   ]
  },
  {
   "cell_type": "code",
   "execution_count": 11,
   "id": "6b3bc80b-1582-41d0-87ce-1227a2b0c85f",
   "metadata": {},
   "outputs": [
    {
     "data": {
      "text/plain": [
       "['20240303_070126703_DJI_0257',\n",
       " '20240303_070430103_DJI_0258',\n",
       " '20240303_070733702_DJI_0259',\n",
       " '20240303_071037222_DJI_0260',\n",
       " '20240303_071340742_DJI_0261',\n",
       " '20240303_071644282_DJI_0262',\n",
       " '20240303_071947882_DJI_0263',\n",
       " '20240303_072251382_DJI_0264',\n",
       " '20240303_072554863_DJI_0265']"
      ]
     },
     "execution_count": 11,
     "metadata": {},
     "output_type": "execute_result"
    }
   ],
   "source": [
    "files_sequence"
   ]
  },
  {
   "cell_type": "code",
   "execution_count": 12,
   "id": "a097c4b7-6720-463a-963a-6fb878f66255",
   "metadata": {},
   "outputs": [
    {
     "data": {
      "text/html": [
       "<div>\n",
       "<style scoped>\n",
       "    .dataframe tbody tr th:only-of-type {\n",
       "        vertical-align: middle;\n",
       "    }\n",
       "\n",
       "    .dataframe tbody tr th {\n",
       "        vertical-align: top;\n",
       "    }\n",
       "\n",
       "    .dataframe thead th {\n",
       "        text-align: right;\n",
       "    }\n",
       "</style>\n",
       "<table border=\"1\" class=\"dataframe\">\n",
       "  <thead>\n",
       "    <tr style=\"text-align: right;\">\n",
       "      <th></th>\n",
       "      <th>frame</th>\n",
       "      <th>Latitude</th>\n",
       "      <th>Longitude</th>\n",
       "      <th>Rel_Alt</th>\n",
       "      <th>Abs_Alt</th>\n",
       "      <th>filename</th>\n",
       "    </tr>\n",
       "  </thead>\n",
       "  <tbody>\n",
       "    <tr>\n",
       "      <th>0</th>\n",
       "      <td>1.0</td>\n",
       "      <td>3.88809</td>\n",
       "      <td>72.81568</td>\n",
       "      <td>14.1</td>\n",
       "      <td>24.4</td>\n",
       "      <td>20240303_072554863_DJI_0265</td>\n",
       "    </tr>\n",
       "    <tr>\n",
       "      <th>1</th>\n",
       "      <td>2.0</td>\n",
       "      <td>3.88809</td>\n",
       "      <td>72.81568</td>\n",
       "      <td>14.1</td>\n",
       "      <td>24.4</td>\n",
       "      <td>20240303_072554863_DJI_0265</td>\n",
       "    </tr>\n",
       "    <tr>\n",
       "      <th>2</th>\n",
       "      <td>3.0</td>\n",
       "      <td>3.88809</td>\n",
       "      <td>72.81568</td>\n",
       "      <td>14.1</td>\n",
       "      <td>24.4</td>\n",
       "      <td>20240303_072554863_DJI_0265</td>\n",
       "    </tr>\n",
       "    <tr>\n",
       "      <th>3</th>\n",
       "      <td>4.0</td>\n",
       "      <td>3.88809</td>\n",
       "      <td>72.81568</td>\n",
       "      <td>14.1</td>\n",
       "      <td>24.4</td>\n",
       "      <td>20240303_072554863_DJI_0265</td>\n",
       "    </tr>\n",
       "    <tr>\n",
       "      <th>4</th>\n",
       "      <td>5.0</td>\n",
       "      <td>3.88809</td>\n",
       "      <td>72.81568</td>\n",
       "      <td>14.1</td>\n",
       "      <td>24.4</td>\n",
       "      <td>20240303_072554863_DJI_0265</td>\n",
       "    </tr>\n",
       "  </tbody>\n",
       "</table>\n",
       "</div>"
      ],
      "text/plain": [
       "   frame  Latitude  Longitude  Rel_Alt  Abs_Alt                     filename\n",
       "0    1.0   3.88809   72.81568     14.1     24.4  20240303_072554863_DJI_0265\n",
       "1    2.0   3.88809   72.81568     14.1     24.4  20240303_072554863_DJI_0265\n",
       "2    3.0   3.88809   72.81568     14.1     24.4  20240303_072554863_DJI_0265\n",
       "3    4.0   3.88809   72.81568     14.1     24.4  20240303_072554863_DJI_0265\n",
       "4    5.0   3.88809   72.81568     14.1     24.4  20240303_072554863_DJI_0265"
      ]
     },
     "execution_count": 12,
     "metadata": {},
     "output_type": "execute_result"
    }
   ],
   "source": [
    "df.head()"
   ]
  },
  {
   "cell_type": "markdown",
   "id": "0b4e46e0-f090-4326-8649-f2e8cea1133a",
   "metadata": {},
   "source": [
    "### Plot abs altitude"
   ]
  },
  {
   "cell_type": "code",
   "execution_count": 13,
   "id": "6f69be4b-84ac-4062-9c6f-c70b9e1fe46c",
   "metadata": {},
   "outputs": [
    {
     "data": {
      "text/plain": [
       "<Axes: xlabel='frame', ylabel='Abs_Alt'>"
      ]
     },
     "execution_count": 13,
     "metadata": {},
     "output_type": "execute_result"
    },
    {
     "data": {
      "image/png": "[encoded data removed]",
      "text/plain": [
       "<Figure size 3500x500 with 1 Axes>"
      ]
     },
     "metadata": {},
     "output_type": "display_data"
    }
   ],
   "source": [
    "f,ax =plt.subplots(1,1,figsize=(35,5))\n",
    "sns.scatterplot(x='frame',y='Abs_Alt',hue='filename', data = combined_df,linewidth=0,s=4)\n",
    "# plt.xticks(rotation=90)  # Rotate x-axis labels by 90 degrees\n",
    "# plt.show()"
   ]
  },
  {
   "cell_type": "markdown",
   "id": "c8834dfe-9d6b-48c9-ad0e-527f75ac23d3",
   "metadata": {},
   "source": [
    "### Plot GPS coordinates altitude (probably the drone doesn't move)\n",
    "Just as an excercise, try to plot the Latitude and Longitude on map such as a satellite view"
   ]
  },
  {
   "cell_type": "code",
   "execution_count": 14,
   "id": "33d141ea-81e2-4dc8-927c-0158ea42ab5c",
   "metadata": {},
   "outputs": [
    {
     "data": {
      "text/plain": [
       "<Axes: xlabel='Latitude', ylabel='Longitude'>"
      ]
     },
     "execution_count": 14,
     "metadata": {},
     "output_type": "execute_result"
    },
    {
     "data": {
      "image/png": "[encoded data removed]",
      "text/plain": [
       "<Figure size 1000x1000 with 1 Axes>"
      ]
     },
     "metadata": {},
     "output_type": "display_data"
    }
   ],
   "source": [
    "f,ax =plt.subplots(1,1,figsize=(10,10))\n",
    "sns.scatterplot(x='Latitude',y='Longitude', hue='frame', data = combined_df,linewidth=0,s=4)"
   ]
  },
  {
   "cell_type": "markdown",
   "id": "42b007b2-1164-43e5-bfdf-d96be890915a",
   "metadata": {},
   "source": [
    "# 2- Size of marker vs. drone log altitude\n",
    "As we already discussed, we would like to know how correlated the marker tracking is, with the drone log.\n",
    "Here, load the dataframe created in the previous notebook where you tracked the aruco marker, and try:\n",
    "- combine dataframes so that you have all the information on the same dataframe (look up pd.merge, make sure you merge on the 'frame' column)\n",
    "- start plotting correlation plots between marker area vs. altitude, how correlated are they? How does the correlation change with 'filename', which is across flights?\n"
   ]
  },
  {
   "cell_type": "code",
   "execution_count": 15,
   "id": "42c71274-ebb4-4c26-bd18-dc6aee98bc5e",
   "metadata": {},
   "outputs": [],
   "source": [
    "# Load the DataFrame form 1-track_aruco\n",
    "df1 = pd.read_hdf('E:/sophia/files/videofiles/20240303_072251382_DJI_0264_aruco.h5', 'df')\n"
   ]
  },
  {
   "cell_type": "code",
   "execution_count": 16,
   "id": "f33a43b8-dbfa-49ed-91c7-7f04cab15ac1",
   "metadata": {},
   "outputs": [
    {
     "data": {
      "text/html": [
       "<div>\n",
       "<style scoped>\n",
       "    .dataframe tbody tr th:only-of-type {\n",
       "        vertical-align: middle;\n",
       "    }\n",
       "\n",
       "    .dataframe tbody tr th {\n",
       "        vertical-align: top;\n",
       "    }\n",
       "\n",
       "    .dataframe thead th {\n",
       "        text-align: right;\n",
       "    }\n",
       "</style>\n",
       "<table border=\"1\" class=\"dataframe\">\n",
       "  <thead>\n",
       "    <tr style=\"text-align: right;\">\n",
       "      <th></th>\n",
       "      <th>frame</th>\n",
       "      <th>Latitude</th>\n",
       "      <th>Longitude</th>\n",
       "      <th>Rel_Alt</th>\n",
       "      <th>Abs_Alt</th>\n",
       "      <th>filename</th>\n",
       "    </tr>\n",
       "  </thead>\n",
       "  <tbody>\n",
       "    <tr>\n",
       "      <th>0</th>\n",
       "      <td>1.0</td>\n",
       "      <td>3.88809</td>\n",
       "      <td>72.81568</td>\n",
       "      <td>14.1</td>\n",
       "      <td>24.4</td>\n",
       "      <td>20240303_072554863_DJI_0265</td>\n",
       "    </tr>\n",
       "    <tr>\n",
       "      <th>1</th>\n",
       "      <td>2.0</td>\n",
       "      <td>3.88809</td>\n",
       "      <td>72.81568</td>\n",
       "      <td>14.1</td>\n",
       "      <td>24.4</td>\n",
       "      <td>20240303_072554863_DJI_0265</td>\n",
       "    </tr>\n",
       "    <tr>\n",
       "      <th>2</th>\n",
       "      <td>3.0</td>\n",
       "      <td>3.88809</td>\n",
       "      <td>72.81568</td>\n",
       "      <td>14.1</td>\n",
       "      <td>24.4</td>\n",
       "      <td>20240303_072554863_DJI_0265</td>\n",
       "    </tr>\n",
       "    <tr>\n",
       "      <th>3</th>\n",
       "      <td>4.0</td>\n",
       "      <td>3.88809</td>\n",
       "      <td>72.81568</td>\n",
       "      <td>14.1</td>\n",
       "      <td>24.4</td>\n",
       "      <td>20240303_072554863_DJI_0265</td>\n",
       "    </tr>\n",
       "    <tr>\n",
       "      <th>4</th>\n",
       "      <td>5.0</td>\n",
       "      <td>3.88809</td>\n",
       "      <td>72.81568</td>\n",
       "      <td>14.1</td>\n",
       "      <td>24.4</td>\n",
       "      <td>20240303_072554863_DJI_0265</td>\n",
       "    </tr>\n",
       "  </tbody>\n",
       "</table>\n",
       "</div>"
      ],
      "text/plain": [
       "   frame  Latitude  Longitude  Rel_Alt  Abs_Alt                     filename\n",
       "0    1.0   3.88809   72.81568     14.1     24.4  20240303_072554863_DJI_0265\n",
       "1    2.0   3.88809   72.81568     14.1     24.4  20240303_072554863_DJI_0265\n",
       "2    3.0   3.88809   72.81568     14.1     24.4  20240303_072554863_DJI_0265\n",
       "3    4.0   3.88809   72.81568     14.1     24.4  20240303_072554863_DJI_0265\n",
       "4    5.0   3.88809   72.81568     14.1     24.4  20240303_072554863_DJI_0265"
      ]
     },
     "execution_count": 16,
     "metadata": {},
     "output_type": "execute_result"
    }
   ],
   "source": [
    "df.head()"
   ]
  },
  {
   "cell_type": "code",
   "execution_count": 17,
   "id": "a960e7c5-e34d-471a-861b-86fd245a7b15",
   "metadata": {},
   "outputs": [
    {
     "data": {
      "text/html": [
       "<div>\n",
       "<style scoped>\n",
       "    .dataframe tbody tr th:only-of-type {\n",
       "        vertical-align: middle;\n",
       "    }\n",
       "\n",
       "    .dataframe tbody tr th {\n",
       "        vertical-align: top;\n",
       "    }\n",
       "\n",
       "    .dataframe thead th {\n",
       "        text-align: right;\n",
       "    }\n",
       "</style>\n",
       "<table border=\"1\" class=\"dataframe\">\n",
       "  <thead>\n",
       "    <tr style=\"text-align: right;\">\n",
       "      <th></th>\n",
       "      <th>frame</th>\n",
       "      <th>ID</th>\n",
       "      <th>orientation</th>\n",
       "      <th>centroid_x</th>\n",
       "      <th>centroid_y</th>\n",
       "      <th>top_left_x</th>\n",
       "      <th>top_left_y</th>\n",
       "      <th>top_right_x</th>\n",
       "      <th>top_right_y</th>\n",
       "      <th>bottom_right_x</th>\n",
       "      <th>...</th>\n",
       "      <th>bottom_left_x</th>\n",
       "      <th>bottom_left_y</th>\n",
       "      <th>Rot Mat 0</th>\n",
       "      <th>Rot Mat 1</th>\n",
       "      <th>Rot Mat 2</th>\n",
       "      <th>Rot Mat 3</th>\n",
       "      <th>Rot Mat 4</th>\n",
       "      <th>Rot Mat 5</th>\n",
       "      <th>bottom_pixel_distance</th>\n",
       "      <th>conversion_factor</th>\n",
       "    </tr>\n",
       "  </thead>\n",
       "  <tbody>\n",
       "    <tr>\n",
       "      <th>0</th>\n",
       "      <td>0</td>\n",
       "      <td>0</td>\n",
       "      <td>49.670808</td>\n",
       "      <td>1000</td>\n",
       "      <td>1022</td>\n",
       "      <td>986</td>\n",
       "      <td>1006</td>\n",
       "      <td>1017</td>\n",
       "      <td>1009</td>\n",
       "      <td>1015</td>\n",
       "      <td>...</td>\n",
       "      <td>983</td>\n",
       "      <td>1036</td>\n",
       "      <td>0.995350</td>\n",
       "      <td>0.096324</td>\n",
       "      <td>-93.793341</td>\n",
       "      <td>-0.096324</td>\n",
       "      <td>0.995350</td>\n",
       "      <td>101.076482</td>\n",
       "      <td>32.140317</td>\n",
       "      <td>0.560044</td>\n",
       "    </tr>\n",
       "    <tr>\n",
       "      <th>1</th>\n",
       "      <td>0</td>\n",
       "      <td>3</td>\n",
       "      <td>125.800972</td>\n",
       "      <td>816</td>\n",
       "      <td>1318</td>\n",
       "      <td>830</td>\n",
       "      <td>1301</td>\n",
       "      <td>835</td>\n",
       "      <td>1330</td>\n",
       "      <td>802</td>\n",
       "      <td>...</td>\n",
       "      <td>798</td>\n",
       "      <td>1306</td>\n",
       "      <td>0.169907</td>\n",
       "      <td>0.985460</td>\n",
       "      <td>-621.480468</td>\n",
       "      <td>-0.985460</td>\n",
       "      <td>0.169907</td>\n",
       "      <td>1898.198160</td>\n",
       "      <td>29.274562</td>\n",
       "      <td>0.614868</td>\n",
       "    </tr>\n",
       "    <tr>\n",
       "      <th>2</th>\n",
       "      <td>0</td>\n",
       "      <td>1</td>\n",
       "      <td>43.211830</td>\n",
       "      <td>1083</td>\n",
       "      <td>1730</td>\n",
       "      <td>1099</td>\n",
       "      <td>1744</td>\n",
       "      <td>1067</td>\n",
       "      <td>1746</td>\n",
       "      <td>1067</td>\n",
       "      <td>...</td>\n",
       "      <td>1099</td>\n",
       "      <td>1715</td>\n",
       "      <td>-0.998053</td>\n",
       "      <td>0.062378</td>\n",
       "      <td>2055.976435</td>\n",
       "      <td>-0.062378</td>\n",
       "      <td>-0.998053</td>\n",
       "      <td>3524.186684</td>\n",
       "      <td>32.015621</td>\n",
       "      <td>0.562226</td>\n",
       "    </tr>\n",
       "    <tr>\n",
       "      <th>3</th>\n",
       "      <td>1</td>\n",
       "      <td>0</td>\n",
       "      <td>50.648784</td>\n",
       "      <td>1000</td>\n",
       "      <td>1022</td>\n",
       "      <td>986</td>\n",
       "      <td>1006</td>\n",
       "      <td>1017</td>\n",
       "      <td>1010</td>\n",
       "      <td>1015</td>\n",
       "      <td>...</td>\n",
       "      <td>983</td>\n",
       "      <td>1036</td>\n",
       "      <td>0.991778</td>\n",
       "      <td>0.127971</td>\n",
       "      <td>-122.564573</td>\n",
       "      <td>-0.127971</td>\n",
       "      <td>0.991778</td>\n",
       "      <td>136.374357</td>\n",
       "      <td>32.140317</td>\n",
       "      <td>0.560044</td>\n",
       "    </tr>\n",
       "    <tr>\n",
       "      <th>4</th>\n",
       "      <td>1</td>\n",
       "      <td>3</td>\n",
       "      <td>126.706330</td>\n",
       "      <td>815</td>\n",
       "      <td>1318</td>\n",
       "      <td>829</td>\n",
       "      <td>1301</td>\n",
       "      <td>834</td>\n",
       "      <td>1331</td>\n",
       "      <td>802</td>\n",
       "      <td>...</td>\n",
       "      <td>798</td>\n",
       "      <td>1305</td>\n",
       "      <td>0.164399</td>\n",
       "      <td>0.986394</td>\n",
       "      <td>-619.052374</td>\n",
       "      <td>-0.986394</td>\n",
       "      <td>0.164399</td>\n",
       "      <td>1905.233163</td>\n",
       "      <td>30.265492</td>\n",
       "      <td>0.594737</td>\n",
       "    </tr>\n",
       "  </tbody>\n",
       "</table>\n",
       "<p>5 rows × 21 columns</p>\n",
       "</div>"
      ],
      "text/plain": [
       "   frame  ID  orientation  centroid_x  centroid_y  top_left_x  top_left_y  \\\n",
       "0      0   0    49.670808        1000        1022         986        1006   \n",
       "1      0   3   125.800972         816        1318         830        1301   \n",
       "2      0   1    43.211830        1083        1730        1099        1744   \n",
       "3      1   0    50.648784        1000        1022         986        1006   \n",
       "4      1   3   126.706330         815        1318         829        1301   \n",
       "\n",
       "   top_right_x  top_right_y  bottom_right_x  ...  bottom_left_x  \\\n",
       "0         1017         1009            1015  ...            983   \n",
       "1          835         1330             802  ...            798   \n",
       "2         1067         1746            1067  ...           1099   \n",
       "3         1017         1010            1015  ...            983   \n",
       "4          834         1331             802  ...            798   \n",
       "\n",
       "   bottom_left_y  Rot Mat 0  Rot Mat 1    Rot Mat 2  Rot Mat 3  Rot Mat 4  \\\n",
       "0           1036   0.995350   0.096324   -93.793341  -0.096324   0.995350   \n",
       "1           1306   0.169907   0.985460  -621.480468  -0.985460   0.169907   \n",
       "2           1715  -0.998053   0.062378  2055.976435  -0.062378  -0.998053   \n",
       "3           1036   0.991778   0.127971  -122.564573  -0.127971   0.991778   \n",
       "4           1305   0.164399   0.986394  -619.052374  -0.986394   0.164399   \n",
       "\n",
       "     Rot Mat 5  bottom_pixel_distance  conversion_factor  \n",
       "0   101.076482              32.140317           0.560044  \n",
       "1  1898.198160              29.274562           0.614868  \n",
       "2  3524.186684              32.015621           0.562226  \n",
       "3   136.374357              32.140317           0.560044  \n",
       "4  1905.233163              30.265492           0.594737  \n",
       "\n",
       "[5 rows x 21 columns]"
      ]
     },
     "execution_count": 17,
     "metadata": {},
     "output_type": "execute_result"
    }
   ],
   "source": [
    "df1.head()"
   ]
  },
  {
   "cell_type": "code",
   "execution_count": 18,
   "id": "afe6adab-ae67-4e9a-9da5-13968f8e341c",
   "metadata": {},
   "outputs": [
    {
     "name": "stdout",
     "output_type": "stream",
     "text": [
      "       frame  ID  orientation  centroid_x  centroid_y  top_left_x  top_left_y  \\\n",
      "0          1   0    50.648784        1000        1022         986        1006   \n",
      "1          1   3   126.706330         815        1318         829        1301   \n",
      "2          1   1    42.224366        1082        1730        1099        1744   \n",
      "3          2   0    50.648784        1000        1022         986        1006   \n",
      "4          2   3   127.640171         816        1318         830        1301   \n",
      "...      ...  ..          ...         ...         ...         ...         ...   \n",
      "27512   9172   3   119.792154         842        1273         854        1256   \n",
      "27513   9172   1    36.471520        1152        1646        1169        1659   \n",
      "27514   9173   0    42.033386         987         965         971         951   \n",
      "27515   9173   1    37.405357        1152        1647        1169        1660   \n",
      "27516   9173   3   119.792154         842        1273         854        1256   \n",
      "\n",
      "       top_right_x  top_right_y  bottom_right_x  ...  Rot Mat 3  Rot Mat 4  \\\n",
      "0             1017         1010            1015  ...  -0.127971   0.991778   \n",
      "1              834         1331             802  ...  -0.986394   0.164399   \n",
      "2             1067         1746            1066  ...  -0.062378  -0.998053   \n",
      "3             1017         1010            1015  ...  -0.127971   0.991778   \n",
      "4              834         1331             802  ...  -0.991228   0.132164   \n",
      "...            ...          ...             ...  ...        ...        ...   \n",
      "27512          862         1284             831  ...  -0.961524   0.274721   \n",
      "27513         1139         1664            1135  ...  -0.164399  -0.986394   \n",
      "27514         1002          950            1004  ...   0.032241   0.999480   \n",
      "27515         1139         1664            1135  ...  -0.132164  -0.991228   \n",
      "27516          862         1284             831  ...  -0.961524   0.274721   \n",
      "\n",
      "         Rot Mat 5  bottom_pixel_distance  conversion_factor  Latitude  \\\n",
      "0       136.374357              32.140317           0.560044   3.88809   \n",
      "1      1905.233163              30.265492           0.594737   3.88809   \n",
      "2      3524.124306              33.060551           0.544456   3.88809   \n",
      "3       136.374357              32.140317           0.560044   3.88809   \n",
      "4      1952.650219              29.274562           0.614868   3.88809   \n",
      "...            ...                    ...                ...       ...   \n",
      "27512  1732.883188              29.832868           0.603361   3.88809   \n",
      "27513  3458.992006              31.256999           0.575871   3.88809   \n",
      "27514   -31.320469              31.144823           0.577945   3.88809   \n",
      "27515  3431.805005              31.256999           0.575871   3.88809   \n",
      "27516  1732.883188              29.832868           0.603361   3.88809   \n",
      "\n",
      "       Longitude  Rel_Alt  Abs_Alt                     filename  \n",
      "0       72.81568     14.2     24.5  20240303_072251382_DJI_0264  \n",
      "1       72.81568     14.2     24.5  20240303_072251382_DJI_0264  \n",
      "2       72.81568     14.2     24.5  20240303_072251382_DJI_0264  \n",
      "3       72.81568     14.2     24.5  20240303_072251382_DJI_0264  \n",
      "4       72.81568     14.2     24.5  20240303_072251382_DJI_0264  \n",
      "...          ...      ...      ...                          ...  \n",
      "27512   72.81568     14.1     24.4  20240303_072251382_DJI_0264  \n",
      "27513   72.81568     14.1     24.4  20240303_072251382_DJI_0264  \n",
      "27514   72.81568     14.1     24.4  20240303_072251382_DJI_0264  \n",
      "27515   72.81568     14.1     24.4  20240303_072251382_DJI_0264  \n",
      "27516   72.81568     14.1     24.4  20240303_072251382_DJI_0264  \n",
      "\n",
      "[27517 rows x 26 columns]\n"
     ]
    }
   ],
   "source": [
    "#Merge the Dataframes on frame\n",
    "df_filtered = combined_df[combined_df['filename'] == '20240303_072251382_DJI_0264']\n",
    "df1_filtered = df1[df1['ID'].isin([0, 1, 3])]\n",
    "\n",
    "merged_df = pd.merge(df1_filtered, df_filtered, how='inner', left_on='frame', right_on='frame')\n",
    "print(merged_df)\n"
   ]
  },
  {
   "cell_type": "code",
   "execution_count": 19,
   "id": "96167a13-8881-49c4-a38d-99a5474b2d25",
   "metadata": {},
   "outputs": [],
   "source": [
    "merged_df[\"fov_width_m\"]= (merged_df[\"conversion_factor\"]*w)/100\n",
    "merged_df[\"fov_height_m\"]= (merged_df[\"conversion_factor\"]*h)/100"
   ]
  },
  {
   "cell_type": "code",
   "execution_count": 20,
   "id": "ccfe68d2-e36d-4d7e-b458-f8763dfe98a4",
   "metadata": {},
   "outputs": [
    {
     "data": {
      "text/html": [
       "<div>\n",
       "<style scoped>\n",
       "    .dataframe tbody tr th:only-of-type {\n",
       "        vertical-align: middle;\n",
       "    }\n",
       "\n",
       "    .dataframe tbody tr th {\n",
       "        vertical-align: top;\n",
       "    }\n",
       "\n",
       "    .dataframe thead th {\n",
       "        text-align: right;\n",
       "    }\n",
       "</style>\n",
       "<table border=\"1\" class=\"dataframe\">\n",
       "  <thead>\n",
       "    <tr style=\"text-align: right;\">\n",
       "      <th></th>\n",
       "      <th>frame</th>\n",
       "      <th>ID</th>\n",
       "      <th>orientation</th>\n",
       "      <th>centroid_x</th>\n",
       "      <th>centroid_y</th>\n",
       "      <th>top_left_x</th>\n",
       "      <th>top_left_y</th>\n",
       "      <th>top_right_x</th>\n",
       "      <th>top_right_y</th>\n",
       "      <th>bottom_right_x</th>\n",
       "      <th>...</th>\n",
       "      <th>Rot Mat 5</th>\n",
       "      <th>bottom_pixel_distance</th>\n",
       "      <th>conversion_factor</th>\n",
       "      <th>Latitude</th>\n",
       "      <th>Longitude</th>\n",
       "      <th>Rel_Alt</th>\n",
       "      <th>Abs_Alt</th>\n",
       "      <th>filename</th>\n",
       "      <th>fov_width_m</th>\n",
       "      <th>fov_height_m</th>\n",
       "    </tr>\n",
       "  </thead>\n",
       "  <tbody>\n",
       "    <tr>\n",
       "      <th>0</th>\n",
       "      <td>1</td>\n",
       "      <td>0</td>\n",
       "      <td>50.648784</td>\n",
       "      <td>1000</td>\n",
       "      <td>1022</td>\n",
       "      <td>986</td>\n",
       "      <td>1006</td>\n",
       "      <td>1017</td>\n",
       "      <td>1010</td>\n",
       "      <td>1015</td>\n",
       "      <td>...</td>\n",
       "      <td>136.374357</td>\n",
       "      <td>32.140317</td>\n",
       "      <td>0.560044</td>\n",
       "      <td>3.88809</td>\n",
       "      <td>72.81568</td>\n",
       "      <td>14.2</td>\n",
       "      <td>24.5</td>\n",
       "      <td>20240303_072251382_DJI_0264</td>\n",
       "      <td>28.674266</td>\n",
       "      <td>15.121195</td>\n",
       "    </tr>\n",
       "    <tr>\n",
       "      <th>1</th>\n",
       "      <td>1</td>\n",
       "      <td>3</td>\n",
       "      <td>126.706330</td>\n",
       "      <td>815</td>\n",
       "      <td>1318</td>\n",
       "      <td>829</td>\n",
       "      <td>1301</td>\n",
       "      <td>834</td>\n",
       "      <td>1331</td>\n",
       "      <td>802</td>\n",
       "      <td>...</td>\n",
       "      <td>1905.233163</td>\n",
       "      <td>30.265492</td>\n",
       "      <td>0.594737</td>\n",
       "      <td>3.88809</td>\n",
       "      <td>72.81568</td>\n",
       "      <td>14.2</td>\n",
       "      <td>24.5</td>\n",
       "      <td>20240303_072251382_DJI_0264</td>\n",
       "      <td>30.450521</td>\n",
       "      <td>16.057892</td>\n",
       "    </tr>\n",
       "    <tr>\n",
       "      <th>2</th>\n",
       "      <td>1</td>\n",
       "      <td>1</td>\n",
       "      <td>42.224366</td>\n",
       "      <td>1082</td>\n",
       "      <td>1730</td>\n",
       "      <td>1099</td>\n",
       "      <td>1744</td>\n",
       "      <td>1067</td>\n",
       "      <td>1746</td>\n",
       "      <td>1066</td>\n",
       "      <td>...</td>\n",
       "      <td>3524.124306</td>\n",
       "      <td>33.060551</td>\n",
       "      <td>0.544456</td>\n",
       "      <td>3.88809</td>\n",
       "      <td>72.81568</td>\n",
       "      <td>14.2</td>\n",
       "      <td>24.5</td>\n",
       "      <td>20240303_072251382_DJI_0264</td>\n",
       "      <td>27.876124</td>\n",
       "      <td>14.700300</td>\n",
       "    </tr>\n",
       "    <tr>\n",
       "      <th>3</th>\n",
       "      <td>2</td>\n",
       "      <td>0</td>\n",
       "      <td>50.648784</td>\n",
       "      <td>1000</td>\n",
       "      <td>1022</td>\n",
       "      <td>986</td>\n",
       "      <td>1006</td>\n",
       "      <td>1017</td>\n",
       "      <td>1010</td>\n",
       "      <td>1015</td>\n",
       "      <td>...</td>\n",
       "      <td>136.374357</td>\n",
       "      <td>32.140317</td>\n",
       "      <td>0.560044</td>\n",
       "      <td>3.88809</td>\n",
       "      <td>72.81568</td>\n",
       "      <td>14.2</td>\n",
       "      <td>24.5</td>\n",
       "      <td>20240303_072251382_DJI_0264</td>\n",
       "      <td>28.674266</td>\n",
       "      <td>15.121195</td>\n",
       "    </tr>\n",
       "    <tr>\n",
       "      <th>4</th>\n",
       "      <td>2</td>\n",
       "      <td>3</td>\n",
       "      <td>127.640171</td>\n",
       "      <td>816</td>\n",
       "      <td>1318</td>\n",
       "      <td>830</td>\n",
       "      <td>1301</td>\n",
       "      <td>834</td>\n",
       "      <td>1331</td>\n",
       "      <td>802</td>\n",
       "      <td>...</td>\n",
       "      <td>1952.650219</td>\n",
       "      <td>29.274562</td>\n",
       "      <td>0.614868</td>\n",
       "      <td>3.88809</td>\n",
       "      <td>72.81568</td>\n",
       "      <td>14.2</td>\n",
       "      <td>24.5</td>\n",
       "      <td>20240303_072251382_DJI_0264</td>\n",
       "      <td>31.481256</td>\n",
       "      <td>16.601444</td>\n",
       "    </tr>\n",
       "  </tbody>\n",
       "</table>\n",
       "<p>5 rows × 28 columns</p>\n",
       "</div>"
      ],
      "text/plain": [
       "   frame  ID  orientation  centroid_x  centroid_y  top_left_x  top_left_y  \\\n",
       "0      1   0    50.648784        1000        1022         986        1006   \n",
       "1      1   3   126.706330         815        1318         829        1301   \n",
       "2      1   1    42.224366        1082        1730        1099        1744   \n",
       "3      2   0    50.648784        1000        1022         986        1006   \n",
       "4      2   3   127.640171         816        1318         830        1301   \n",
       "\n",
       "   top_right_x  top_right_y  bottom_right_x  ...    Rot Mat 5  \\\n",
       "0         1017         1010            1015  ...   136.374357   \n",
       "1          834         1331             802  ...  1905.233163   \n",
       "2         1067         1746            1066  ...  3524.124306   \n",
       "3         1017         1010            1015  ...   136.374357   \n",
       "4          834         1331             802  ...  1952.650219   \n",
       "\n",
       "   bottom_pixel_distance  conversion_factor  Latitude  Longitude  Rel_Alt  \\\n",
       "0              32.140317           0.560044   3.88809   72.81568     14.2   \n",
       "1              30.265492           0.594737   3.88809   72.81568     14.2   \n",
       "2              33.060551           0.544456   3.88809   72.81568     14.2   \n",
       "3              32.140317           0.560044   3.88809   72.81568     14.2   \n",
       "4              29.274562           0.614868   3.88809   72.81568     14.2   \n",
       "\n",
       "   Abs_Alt                     filename  fov_width_m  fov_height_m  \n",
       "0     24.5  20240303_072251382_DJI_0264    28.674266     15.121195  \n",
       "1     24.5  20240303_072251382_DJI_0264    30.450521     16.057892  \n",
       "2     24.5  20240303_072251382_DJI_0264    27.876124     14.700300  \n",
       "3     24.5  20240303_072251382_DJI_0264    28.674266     15.121195  \n",
       "4     24.5  20240303_072251382_DJI_0264    31.481256     16.601444  \n",
       "\n",
       "[5 rows x 28 columns]"
      ]
     },
     "execution_count": 20,
     "metadata": {},
     "output_type": "execute_result"
    }
   ],
   "source": [
    "merged_df.head()"
   ]
  },
  {
   "cell_type": "code",
   "execution_count": 21,
   "id": "27147fcf-4051-4752-8e67-fb5f2759fb53",
   "metadata": {},
   "outputs": [
    {
     "data": {
      "text/plain": [
       "<Axes: xlabel='fov_width_m', ylabel='Count'>"
      ]
     },
     "execution_count": 21,
     "metadata": {},
     "output_type": "execute_result"
    },
    {
     "data": {
      "image/png": "[encoded data removed]",
      "text/plain": [
       "<Figure size 1000x500 with 1 Axes>"
      ]
     },
     "metadata": {},
     "output_type": "display_data"
    }
   ],
   "source": [
    "#histplot FOV width\n",
    "f,ax =plt.subplots(1,1,figsize=(10,5))\n",
    "sns.histplot(x='fov_width_m', hue='ID', data = merged_df,)\n"
   ]
  },
  {
   "cell_type": "code",
   "execution_count": 22,
   "id": "3361868e-755e-4860-872e-ad393b845d77",
   "metadata": {},
   "outputs": [],
   "source": [
    "merged_df[\"fov_horizontal\"] = 2 * np.arctan(merged_df[\"fov_width_m\"] / (2 * merged_df[\"Abs_Alt\"])) * 180 / np.pi  # in degrees\n",
    "merged_df[\"fov_vertical\"] = 2 * np.arctan(merged_df[\"fov_height_m\"] / (2 * merged_df[\"Abs_Alt\"])) * 180 / np.pi  # in degrees\n"
   ]
  },
  {
   "cell_type": "code",
   "execution_count": 23,
   "id": "37cbc28b-a062-4419-be48-8b9181933861",
   "metadata": {},
   "outputs": [
    {
     "data": {
      "text/html": [
       "<div>\n",
       "<style scoped>\n",
       "    .dataframe tbody tr th:only-of-type {\n",
       "        vertical-align: middle;\n",
       "    }\n",
       "\n",
       "    .dataframe tbody tr th {\n",
       "        vertical-align: top;\n",
       "    }\n",
       "\n",
       "    .dataframe thead th {\n",
       "        text-align: right;\n",
       "    }\n",
       "</style>\n",
       "<table border=\"1\" class=\"dataframe\">\n",
       "  <thead>\n",
       "    <tr style=\"text-align: right;\">\n",
       "      <th></th>\n",
       "      <th>frame</th>\n",
       "      <th>ID</th>\n",
       "      <th>orientation</th>\n",
       "      <th>centroid_x</th>\n",
       "      <th>centroid_y</th>\n",
       "      <th>top_left_x</th>\n",
       "      <th>top_left_y</th>\n",
       "      <th>top_right_x</th>\n",
       "      <th>top_right_y</th>\n",
       "      <th>bottom_right_x</th>\n",
       "      <th>...</th>\n",
       "      <th>conversion_factor</th>\n",
       "      <th>Latitude</th>\n",
       "      <th>Longitude</th>\n",
       "      <th>Rel_Alt</th>\n",
       "      <th>Abs_Alt</th>\n",
       "      <th>filename</th>\n",
       "      <th>fov_width_m</th>\n",
       "      <th>fov_height_m</th>\n",
       "      <th>fov_horizontal</th>\n",
       "      <th>fov_vertical</th>\n",
       "    </tr>\n",
       "  </thead>\n",
       "  <tbody>\n",
       "    <tr>\n",
       "      <th>0</th>\n",
       "      <td>1</td>\n",
       "      <td>0</td>\n",
       "      <td>50.648784</td>\n",
       "      <td>1000</td>\n",
       "      <td>1022</td>\n",
       "      <td>986</td>\n",
       "      <td>1006</td>\n",
       "      <td>1017</td>\n",
       "      <td>1010</td>\n",
       "      <td>1015</td>\n",
       "      <td>...</td>\n",
       "      <td>0.560044</td>\n",
       "      <td>3.88809</td>\n",
       "      <td>72.81568</td>\n",
       "      <td>14.2</td>\n",
       "      <td>24.5</td>\n",
       "      <td>20240303_072251382_DJI_0264</td>\n",
       "      <td>28.674266</td>\n",
       "      <td>15.121195</td>\n",
       "      <td>60.671411</td>\n",
       "      <td>34.300014</td>\n",
       "    </tr>\n",
       "    <tr>\n",
       "      <th>1</th>\n",
       "      <td>1</td>\n",
       "      <td>3</td>\n",
       "      <td>126.706330</td>\n",
       "      <td>815</td>\n",
       "      <td>1318</td>\n",
       "      <td>829</td>\n",
       "      <td>1301</td>\n",
       "      <td>834</td>\n",
       "      <td>1331</td>\n",
       "      <td>802</td>\n",
       "      <td>...</td>\n",
       "      <td>0.594737</td>\n",
       "      <td>3.88809</td>\n",
       "      <td>72.81568</td>\n",
       "      <td>14.2</td>\n",
       "      <td>24.5</td>\n",
       "      <td>20240303_072251382_DJI_0264</td>\n",
       "      <td>30.450521</td>\n",
       "      <td>16.057892</td>\n",
       "      <td>63.716877</td>\n",
       "      <td>36.289190</td>\n",
       "    </tr>\n",
       "    <tr>\n",
       "      <th>2</th>\n",
       "      <td>1</td>\n",
       "      <td>1</td>\n",
       "      <td>42.224366</td>\n",
       "      <td>1082</td>\n",
       "      <td>1730</td>\n",
       "      <td>1099</td>\n",
       "      <td>1744</td>\n",
       "      <td>1067</td>\n",
       "      <td>1746</td>\n",
       "      <td>1066</td>\n",
       "      <td>...</td>\n",
       "      <td>0.544456</td>\n",
       "      <td>3.88809</td>\n",
       "      <td>72.81568</td>\n",
       "      <td>14.2</td>\n",
       "      <td>24.5</td>\n",
       "      <td>20240303_072251382_DJI_0264</td>\n",
       "      <td>27.876124</td>\n",
       "      <td>14.700300</td>\n",
       "      <td>59.271138</td>\n",
       "      <td>33.399131</td>\n",
       "    </tr>\n",
       "    <tr>\n",
       "      <th>3</th>\n",
       "      <td>2</td>\n",
       "      <td>0</td>\n",
       "      <td>50.648784</td>\n",
       "      <td>1000</td>\n",
       "      <td>1022</td>\n",
       "      <td>986</td>\n",
       "      <td>1006</td>\n",
       "      <td>1017</td>\n",
       "      <td>1010</td>\n",
       "      <td>1015</td>\n",
       "      <td>...</td>\n",
       "      <td>0.560044</td>\n",
       "      <td>3.88809</td>\n",
       "      <td>72.81568</td>\n",
       "      <td>14.2</td>\n",
       "      <td>24.5</td>\n",
       "      <td>20240303_072251382_DJI_0264</td>\n",
       "      <td>28.674266</td>\n",
       "      <td>15.121195</td>\n",
       "      <td>60.671411</td>\n",
       "      <td>34.300014</td>\n",
       "    </tr>\n",
       "    <tr>\n",
       "      <th>4</th>\n",
       "      <td>2</td>\n",
       "      <td>3</td>\n",
       "      <td>127.640171</td>\n",
       "      <td>816</td>\n",
       "      <td>1318</td>\n",
       "      <td>830</td>\n",
       "      <td>1301</td>\n",
       "      <td>834</td>\n",
       "      <td>1331</td>\n",
       "      <td>802</td>\n",
       "      <td>...</td>\n",
       "      <td>0.614868</td>\n",
       "      <td>3.88809</td>\n",
       "      <td>72.81568</td>\n",
       "      <td>14.2</td>\n",
       "      <td>24.5</td>\n",
       "      <td>20240303_072251382_DJI_0264</td>\n",
       "      <td>31.481256</td>\n",
       "      <td>16.601444</td>\n",
       "      <td>65.439431</td>\n",
       "      <td>37.433272</td>\n",
       "    </tr>\n",
       "  </tbody>\n",
       "</table>\n",
       "<p>5 rows × 30 columns</p>\n",
       "</div>"
      ],
      "text/plain": [
       "   frame  ID  orientation  centroid_x  centroid_y  top_left_x  top_left_y  \\\n",
       "0      1   0    50.648784        1000        1022         986        1006   \n",
       "1      1   3   126.706330         815        1318         829        1301   \n",
       "2      1   1    42.224366        1082        1730        1099        1744   \n",
       "3      2   0    50.648784        1000        1022         986        1006   \n",
       "4      2   3   127.640171         816        1318         830        1301   \n",
       "\n",
       "   top_right_x  top_right_y  bottom_right_x  ...  conversion_factor  Latitude  \\\n",
       "0         1017         1010            1015  ...           0.560044   3.88809   \n",
       "1          834         1331             802  ...           0.594737   3.88809   \n",
       "2         1067         1746            1066  ...           0.544456   3.88809   \n",
       "3         1017         1010            1015  ...           0.560044   3.88809   \n",
       "4          834         1331             802  ...           0.614868   3.88809   \n",
       "\n",
       "   Longitude  Rel_Alt  Abs_Alt                     filename  fov_width_m  \\\n",
       "0   72.81568     14.2     24.5  20240303_072251382_DJI_0264    28.674266   \n",
       "1   72.81568     14.2     24.5  20240303_072251382_DJI_0264    30.450521   \n",
       "2   72.81568     14.2     24.5  20240303_072251382_DJI_0264    27.876124   \n",
       "3   72.81568     14.2     24.5  20240303_072251382_DJI_0264    28.674266   \n",
       "4   72.81568     14.2     24.5  20240303_072251382_DJI_0264    31.481256   \n",
       "\n",
       "   fov_height_m  fov_horizontal  fov_vertical  \n",
       "0     15.121195       60.671411     34.300014  \n",
       "1     16.057892       63.716877     36.289190  \n",
       "2     14.700300       59.271138     33.399131  \n",
       "3     15.121195       60.671411     34.300014  \n",
       "4     16.601444       65.439431     37.433272  \n",
       "\n",
       "[5 rows x 30 columns]"
      ]
     },
     "execution_count": 23,
     "metadata": {},
     "output_type": "execute_result"
    }
   ],
   "source": [
    "merged_df.head()"
   ]
  },
  {
   "cell_type": "code",
   "execution_count": 24,
   "id": "a0f84e17-9c32-4e3a-8b7e-7e6b49adbebe",
   "metadata": {},
   "outputs": [],
   "source": [
    "merged_df[\"fov_diagonal\"] = 2 * np.arctan(\n",
    "    np.sqrt(np.tan(np.radians(merged_df[\"fov_horizontal\"] / 2))**2 + np.tan(np.radians(merged_df[\"fov_vertical\"] / 2))**2)\n",
    ") * 180 / np.pi  # converting to degrees"
   ]
  },
  {
   "cell_type": "code",
   "execution_count": 25,
   "id": "f4fd09d3-aa90-45d8-bc50-26ad2523b576",
   "metadata": {
    "scrolled": true
   },
   "outputs": [
    {
     "data": {
      "text/plain": [
       "<Axes: xlabel='Rel_Alt', ylabel='bottom_pixel_distance'>"
      ]
     },
     "execution_count": 25,
     "metadata": {},
     "output_type": "execute_result"
    },
    {
     "data": {
      "image/png": "[encoded data removed]",
      "text/plain": [
       "<Figure size 1000x500 with 1 Axes>"
      ]
     },
     "metadata": {},
     "output_type": "display_data"
    }
   ],
   "source": [
    "#Plot distance in pixel vs abs_alt\n",
    "f,ax =plt.subplots(1,1,figsize=(10,5))\n",
    "sns.scatterplot(x='Rel_Alt',y='bottom_pixel_distance',hue='ID', data = merged_df,linewidth=0,s=8,palette='rainbow')"
   ]
  },
  {
   "cell_type": "code",
   "execution_count": 26,
   "id": "fa031385-5cb1-4c13-95fc-5b282a88a206",
   "metadata": {},
   "outputs": [
    {
     "data": {
      "text/plain": [
       "<Axes: xlabel='ID', ylabel='bottom_pixel_distance'>"
      ]
     },
     "execution_count": 26,
     "metadata": {},
     "output_type": "execute_result"
    },
    {
     "data": {
      "image/png": "[encoded data removed]",
      "text/plain": [
       "<Figure size 1000x500 with 1 Axes>"
      ]
     },
     "metadata": {},
     "output_type": "display_data"
    }
   ],
   "source": [
    "#Plot distance in pixel vs abs_alt\n",
    "f,ax =plt.subplots(1,1,figsize=(10,5))\n",
    "sns.boxplot(x='ID',y='bottom_pixel_distance', data = merged_df,)\n",
    "sns.stripplot(x='ID',y='bottom_pixel_distance', data = merged_df,alpha=0.1,color='k')"
   ]
  },
  {
   "cell_type": "code",
   "execution_count": 27,
   "id": "789f6aeb-9b5e-414f-8477-68c1000ba72c",
   "metadata": {},
   "outputs": [
    {
     "data": {
      "text/plain": [
       "<Axes: xlabel='ID', ylabel='Rel_Alt'>"
      ]
     },
     "execution_count": 27,
     "metadata": {},
     "output_type": "execute_result"
    },
    {
     "data": {
      "image/png": "[encoded data removed]",
      "text/plain": [
       "<Figure size 1000x500 with 1 Axes>"
      ]
     },
     "metadata": {},
     "output_type": "display_data"
    }
   ],
   "source": [
    "#Plot distance in pixel vs abs_alt\n",
    "f,ax =plt.subplots(1,1,figsize=(10,5))\n",
    "sns.boxplot(x='ID',y='Rel_Alt', data = merged_df,)\n",
    "sns.stripplot(x='ID',y='Rel_Alt', data = merged_df,alpha=0.1,color='k')"
   ]
  },
  {
   "cell_type": "markdown",
   "id": "9fa7f286-9019-4404-b04f-ff357ee04f83",
   "metadata": {},
   "source": [
    "## Correlation between Abs_Alt and the pixel distance for each Marker"
   ]
  },
  {
   "cell_type": "code",
   "execution_count": 28,
   "id": "43dd737f-139d-4ab1-9dce-2aed3476f2db",
   "metadata": {},
   "outputs": [
    {
     "data": {
      "text/plain": [
       "0.13474074017396664"
      ]
     },
     "execution_count": 28,
     "metadata": {},
     "output_type": "execute_result"
    }
   ],
   "source": [
    "merged_df3 = merged_df[merged_df['ID'].isin([3])]\n",
    "merged_df3['Abs_Alt'].corr(merged_df3['bottom_pixel_distance'])"
   ]
  },
  {
   "cell_type": "code",
   "execution_count": 29,
   "id": "85ea58b3-f69e-4048-84db-8347ad5afb5e",
   "metadata": {},
   "outputs": [
    {
     "data": {
      "text/plain": [
       "0.11029442618316951"
      ]
     },
     "execution_count": 29,
     "metadata": {},
     "output_type": "execute_result"
    }
   ],
   "source": [
    "merged_df0 = merged_df[merged_df['ID'].isin([0])]\n",
    "merged_df0['Abs_Alt'].corr(merged_df0['bottom_pixel_distance'])"
   ]
  },
  {
   "cell_type": "code",
   "execution_count": 30,
   "id": "22e84990-2a48-4c6e-85de-5f0c569da8fa",
   "metadata": {},
   "outputs": [
    {
     "data": {
      "text/plain": [
       "-0.00489019528388438"
      ]
     },
     "execution_count": 30,
     "metadata": {},
     "output_type": "execute_result"
    }
   ],
   "source": [
    "merged_df1 = merged_df[merged_df['ID'].isin([1])]\n",
    "merged_df1['Abs_Alt'].corr(merged_df1['bottom_pixel_distance'])"
   ]
  },
  {
   "cell_type": "code",
   "execution_count": 31,
   "id": "ff1c06f1-5bf8-43c3-b9cc-68642aa7c413",
   "metadata": {},
   "outputs": [
    {
     "name": "stdout",
     "output_type": "stream",
     "text": [
      "[INFO] Data saved to HDF5 file.\n"
     ]
    }
   ],
   "source": [
    "output_h5_path = \"E:/sophia/files/videofiles/sequence_20240303_070126703_DJI_0257.h5\"\n",
    "merged_df.to_hdf(output_h5_path, key='df', mode='w')\n",
    "print(\"[INFO] Data saved to HDF5 file.\")"
   ]
  },
  {
   "cell_type": "code",
   "execution_count": null,
   "id": "76deb590-764a-4fe2-8f2c-f984ef4c675e",
   "metadata": {},
   "outputs": [],
   "source": []
  },
  {
   "cell_type": "code",
   "execution_count": null,
   "id": "b0c06b8f-db7f-46c6-ac51-d98bc52b9a38",
   "metadata": {},
   "outputs": [],
   "source": []
  }
 ],
 "metadata": {
  "kernelspec": {
   "display_name": "Python 3 (ipykernel)",
   "language": "python",
   "name": "python3"
  },
  "language_info": {
   "codemirror_mode": {
    "name": "ipython",
    "version": 3
   },
   "file_extension": ".py",
   "mimetype": "text/x-python",
   "name": "python",
   "nbconvert_exporter": "python",
   "pygments_lexer": "ipython3",
   "version": "3.12.4"
  }
 },
 "nbformat": 4,
 "nbformat_minor": 5
}
